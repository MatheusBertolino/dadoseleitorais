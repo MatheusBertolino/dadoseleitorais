{
 "cells": [
  {
   "cell_type": "markdown",
   "metadata": {},
   "source": [
    "# Relatório de Análise 2\n",
    "\n",
    "### Importando dados de votação no estado de SP"
   ]
  },
  {
   "cell_type": "code",
   "execution_count": 1,
   "metadata": {},
   "outputs": [],
   "source": [
    "import pandas as pd"
   ]
  },
  {
   "cell_type": "code",
   "execution_count": 2,
   "metadata": {},
   "outputs": [
    {
     "data": {
      "text/html": [
       "<div>\n",
       "<style scoped>\n",
       "    .dataframe tbody tr th:only-of-type {\n",
       "        vertical-align: middle;\n",
       "    }\n",
       "\n",
       "    .dataframe tbody tr th {\n",
       "        vertical-align: top;\n",
       "    }\n",
       "\n",
       "    .dataframe thead th {\n",
       "        text-align: right;\n",
       "    }\n",
       "</style>\n",
       "<table border=\"1\" class=\"dataframe\">\n",
       "  <thead>\n",
       "    <tr style=\"text-align: right;\">\n",
       "      <th></th>\n",
       "      <th>0</th>\n",
       "      <th>1</th>\n",
       "      <th>2</th>\n",
       "      <th>3</th>\n",
       "      <th>4</th>\n",
       "      <th>5</th>\n",
       "      <th>6</th>\n",
       "      <th>7</th>\n",
       "      <th>8</th>\n",
       "      <th>9</th>\n",
       "      <th>10</th>\n",
       "      <th>11</th>\n",
       "      <th>12</th>\n",
       "      <th>13</th>\n",
       "      <th>14</th>\n",
       "    </tr>\n",
       "  </thead>\n",
       "  <tbody>\n",
       "    <tr>\n",
       "      <th>0</th>\n",
       "      <td>08/10/2012</td>\n",
       "      <td>19:39:52</td>\n",
       "      <td>2012</td>\n",
       "      <td>1</td>\n",
       "      <td>ELEIÇÃO MUNICIPAL 2012</td>\n",
       "      <td>SP</td>\n",
       "      <td>63452</td>\n",
       "      <td>63452</td>\n",
       "      <td>CONCHAL</td>\n",
       "      <td>75</td>\n",
       "      <td>357</td>\n",
       "      <td>13</td>\n",
       "      <td>VEREADOR</td>\n",
       "      <td>45</td>\n",
       "      <td>5</td>\n",
       "    </tr>\n",
       "    <tr>\n",
       "      <th>1</th>\n",
       "      <td>08/10/2012</td>\n",
       "      <td>19:39:52</td>\n",
       "      <td>2012</td>\n",
       "      <td>1</td>\n",
       "      <td>ELEIÇÃO MUNICIPAL 2012</td>\n",
       "      <td>SP</td>\n",
       "      <td>63452</td>\n",
       "      <td>63452</td>\n",
       "      <td>CONCHAL</td>\n",
       "      <td>75</td>\n",
       "      <td>357</td>\n",
       "      <td>13</td>\n",
       "      <td>VEREADOR</td>\n",
       "      <td>33</td>\n",
       "      <td>1</td>\n",
       "    </tr>\n",
       "    <tr>\n",
       "      <th>2</th>\n",
       "      <td>08/10/2012</td>\n",
       "      <td>19:39:52</td>\n",
       "      <td>2012</td>\n",
       "      <td>1</td>\n",
       "      <td>ELEIÇÃO MUNICIPAL 2012</td>\n",
       "      <td>SP</td>\n",
       "      <td>63452</td>\n",
       "      <td>63452</td>\n",
       "      <td>CONCHAL</td>\n",
       "      <td>75</td>\n",
       "      <td>357</td>\n",
       "      <td>13</td>\n",
       "      <td>VEREADOR</td>\n",
       "      <td>25</td>\n",
       "      <td>13</td>\n",
       "    </tr>\n",
       "    <tr>\n",
       "      <th>3</th>\n",
       "      <td>08/10/2012</td>\n",
       "      <td>19:39:52</td>\n",
       "      <td>2012</td>\n",
       "      <td>1</td>\n",
       "      <td>ELEIÇÃO MUNICIPAL 2012</td>\n",
       "      <td>SP</td>\n",
       "      <td>63452</td>\n",
       "      <td>63452</td>\n",
       "      <td>CONCHAL</td>\n",
       "      <td>75</td>\n",
       "      <td>357</td>\n",
       "      <td>13</td>\n",
       "      <td>VEREADOR</td>\n",
       "      <td>23</td>\n",
       "      <td>1</td>\n",
       "    </tr>\n",
       "    <tr>\n",
       "      <th>4</th>\n",
       "      <td>08/10/2012</td>\n",
       "      <td>19:39:52</td>\n",
       "      <td>2012</td>\n",
       "      <td>1</td>\n",
       "      <td>ELEIÇÃO MUNICIPAL 2012</td>\n",
       "      <td>SP</td>\n",
       "      <td>63452</td>\n",
       "      <td>63452</td>\n",
       "      <td>CONCHAL</td>\n",
       "      <td>75</td>\n",
       "      <td>357</td>\n",
       "      <td>13</td>\n",
       "      <td>VEREADOR</td>\n",
       "      <td>11</td>\n",
       "      <td>1</td>\n",
       "    </tr>\n",
       "  </tbody>\n",
       "</table>\n",
       "</div>"
      ],
      "text/plain": [
       "           0         1     2   3                       4   5      6      7   \\\n",
       "0  08/10/2012  19:39:52  2012   1  ELEIÇÃO MUNICIPAL 2012  SP  63452  63452   \n",
       "1  08/10/2012  19:39:52  2012   1  ELEIÇÃO MUNICIPAL 2012  SP  63452  63452   \n",
       "2  08/10/2012  19:39:52  2012   1  ELEIÇÃO MUNICIPAL 2012  SP  63452  63452   \n",
       "3  08/10/2012  19:39:52  2012   1  ELEIÇÃO MUNICIPAL 2012  SP  63452  63452   \n",
       "4  08/10/2012  19:39:52  2012   1  ELEIÇÃO MUNICIPAL 2012  SP  63452  63452   \n",
       "\n",
       "        8   9    10  11        12  13  14  \n",
       "0  CONCHAL  75  357  13  VEREADOR  45   5  \n",
       "1  CONCHAL  75  357  13  VEREADOR  33   1  \n",
       "2  CONCHAL  75  357  13  VEREADOR  25  13  \n",
       "3  CONCHAL  75  357  13  VEREADOR  23   1  \n",
       "4  CONCHAL  75  357  13  VEREADOR  11   1  "
      ]
     },
     "execution_count": 2,
     "metadata": {},
     "output_type": "execute_result"
    }
   ],
   "source": [
    "dados = pd.read_table('vsec_1t_SP/votacao_secao_2012_SP.txt', sep = ';', encoding = 'latin-1', header = None)\n",
    "dados.head()"
   ]
  },
  {
   "cell_type": "code",
   "execution_count": 3,
   "metadata": {},
   "outputs": [
    {
     "data": {
      "text/plain": [
       "(8363241, 15)"
      ]
     },
     "execution_count": 3,
     "metadata": {},
     "output_type": "execute_result"
    }
   ],
   "source": [
    "dados.shape"
   ]
  },
  {
   "cell_type": "markdown",
   "metadata": {},
   "source": [
    "### FIltrando somente os votos da cidade de São Paulo"
   ]
  },
  {
   "cell_type": "code",
   "execution_count": 4,
   "metadata": {
    "scrolled": true
   },
   "outputs": [
    {
     "data": {
      "text/html": [
       "<div>\n",
       "<style scoped>\n",
       "    .dataframe tbody tr th:only-of-type {\n",
       "        vertical-align: middle;\n",
       "    }\n",
       "\n",
       "    .dataframe tbody tr th {\n",
       "        vertical-align: top;\n",
       "    }\n",
       "\n",
       "    .dataframe thead th {\n",
       "        text-align: right;\n",
       "    }\n",
       "</style>\n",
       "<table border=\"1\" class=\"dataframe\">\n",
       "  <thead>\n",
       "    <tr style=\"text-align: right;\">\n",
       "      <th></th>\n",
       "      <th>0</th>\n",
       "      <th>1</th>\n",
       "      <th>2</th>\n",
       "      <th>3</th>\n",
       "      <th>4</th>\n",
       "      <th>5</th>\n",
       "      <th>6</th>\n",
       "      <th>7</th>\n",
       "      <th>Cidade</th>\n",
       "      <th>9</th>\n",
       "      <th>10</th>\n",
       "      <th>11</th>\n",
       "      <th>12</th>\n",
       "      <th>13</th>\n",
       "      <th>14</th>\n",
       "    </tr>\n",
       "  </thead>\n",
       "  <tbody>\n",
       "    <tr>\n",
       "      <th>3857621</th>\n",
       "      <td>08/10/2012</td>\n",
       "      <td>19:39:52</td>\n",
       "      <td>2012</td>\n",
       "      <td>1</td>\n",
       "      <td>ELEIÇÃO MUNICIPAL 2012</td>\n",
       "      <td>SP</td>\n",
       "      <td>71072</td>\n",
       "      <td>71072</td>\n",
       "      <td>SÃO PAULO</td>\n",
       "      <td>417</td>\n",
       "      <td>78</td>\n",
       "      <td>11</td>\n",
       "      <td>PREFEITO</td>\n",
       "      <td>10</td>\n",
       "      <td>47</td>\n",
       "    </tr>\n",
       "    <tr>\n",
       "      <th>3857622</th>\n",
       "      <td>08/10/2012</td>\n",
       "      <td>19:39:52</td>\n",
       "      <td>2012</td>\n",
       "      <td>1</td>\n",
       "      <td>ELEIÇÃO MUNICIPAL 2012</td>\n",
       "      <td>SP</td>\n",
       "      <td>71072</td>\n",
       "      <td>71072</td>\n",
       "      <td>SÃO PAULO</td>\n",
       "      <td>417</td>\n",
       "      <td>78</td>\n",
       "      <td>11</td>\n",
       "      <td>PREFEITO</td>\n",
       "      <td>13</td>\n",
       "      <td>82</td>\n",
       "    </tr>\n",
       "    <tr>\n",
       "      <th>3857623</th>\n",
       "      <td>08/10/2012</td>\n",
       "      <td>19:39:52</td>\n",
       "      <td>2012</td>\n",
       "      <td>1</td>\n",
       "      <td>ELEIÇÃO MUNICIPAL 2012</td>\n",
       "      <td>SP</td>\n",
       "      <td>71072</td>\n",
       "      <td>71072</td>\n",
       "      <td>SÃO PAULO</td>\n",
       "      <td>417</td>\n",
       "      <td>78</td>\n",
       "      <td>11</td>\n",
       "      <td>PREFEITO</td>\n",
       "      <td>15</td>\n",
       "      <td>61</td>\n",
       "    </tr>\n",
       "    <tr>\n",
       "      <th>3857624</th>\n",
       "      <td>08/10/2012</td>\n",
       "      <td>19:39:52</td>\n",
       "      <td>2012</td>\n",
       "      <td>1</td>\n",
       "      <td>ELEIÇÃO MUNICIPAL 2012</td>\n",
       "      <td>SP</td>\n",
       "      <td>71072</td>\n",
       "      <td>71072</td>\n",
       "      <td>SÃO PAULO</td>\n",
       "      <td>417</td>\n",
       "      <td>78</td>\n",
       "      <td>11</td>\n",
       "      <td>PREFEITO</td>\n",
       "      <td>23</td>\n",
       "      <td>13</td>\n",
       "    </tr>\n",
       "    <tr>\n",
       "      <th>3857625</th>\n",
       "      <td>08/10/2012</td>\n",
       "      <td>19:39:52</td>\n",
       "      <td>2012</td>\n",
       "      <td>1</td>\n",
       "      <td>ELEIÇÃO MUNICIPAL 2012</td>\n",
       "      <td>SP</td>\n",
       "      <td>71072</td>\n",
       "      <td>71072</td>\n",
       "      <td>SÃO PAULO</td>\n",
       "      <td>417</td>\n",
       "      <td>78</td>\n",
       "      <td>11</td>\n",
       "      <td>PREFEITO</td>\n",
       "      <td>29</td>\n",
       "      <td>1</td>\n",
       "    </tr>\n",
       "  </tbody>\n",
       "</table>\n",
       "</div>"
      ],
      "text/plain": [
       "                  0         1     2  3                       4   5      6  \\\n",
       "3857621  08/10/2012  19:39:52  2012  1  ELEIÇÃO MUNICIPAL 2012  SP  71072   \n",
       "3857622  08/10/2012  19:39:52  2012  1  ELEIÇÃO MUNICIPAL 2012  SP  71072   \n",
       "3857623  08/10/2012  19:39:52  2012  1  ELEIÇÃO MUNICIPAL 2012  SP  71072   \n",
       "3857624  08/10/2012  19:39:52  2012  1  ELEIÇÃO MUNICIPAL 2012  SP  71072   \n",
       "3857625  08/10/2012  19:39:52  2012  1  ELEIÇÃO MUNICIPAL 2012  SP  71072   \n",
       "\n",
       "             7     Cidade    9  10  11        12  13  14  \n",
       "3857621  71072  SÃO PAULO  417  78  11  PREFEITO  10  47  \n",
       "3857622  71072  SÃO PAULO  417  78  11  PREFEITO  13  82  \n",
       "3857623  71072  SÃO PAULO  417  78  11  PREFEITO  15  61  \n",
       "3857624  71072  SÃO PAULO  417  78  11  PREFEITO  23  13  \n",
       "3857625  71072  SÃO PAULO  417  78  11  PREFEITO  29   1  "
      ]
     },
     "execution_count": 4,
     "metadata": {},
     "output_type": "execute_result"
    }
   ],
   "source": [
    "dados.rename(columns = {8 : 'Cidade'}, inplace = True)\n",
    "selection = (dados.Cidade == 'SÃO PAULO')\n",
    "dados = dados[selection]\n",
    "dados.head()"
   ]
  },
  {
   "cell_type": "code",
   "execution_count": 5,
   "metadata": {},
   "outputs": [
    {
     "data": {
      "text/plain": [
       "(2381878, 15)"
      ]
     },
     "execution_count": 5,
     "metadata": {},
     "output_type": "execute_result"
    }
   ],
   "source": [
    "dados.shape"
   ]
  },
  {
   "cell_type": "markdown",
   "metadata": {},
   "source": [
    "### Exportando dados "
   ]
  },
  {
   "cell_type": "code",
   "execution_count": 6,
   "metadata": {},
   "outputs": [],
   "source": [
    "dados.to_csv('dados/votos.csv', sep = ';', index = False, encoding = 'latin-1', header = False)"
   ]
  },
  {
   "cell_type": "code",
   "execution_count": null,
   "metadata": {},
   "outputs": [],
   "source": []
  }
 ],
 "metadata": {
  "kernelspec": {
   "display_name": "Python 3",
   "language": "python",
   "name": "python3"
  },
  "language_info": {
   "codemirror_mode": {
    "name": "ipython",
    "version": 3
   },
   "file_extension": ".py",
   "mimetype": "text/x-python",
   "name": "python",
   "nbconvert_exporter": "python",
   "pygments_lexer": "ipython3",
   "version": "3.6.8"
  }
 },
 "nbformat": 4,
 "nbformat_minor": 2
}
