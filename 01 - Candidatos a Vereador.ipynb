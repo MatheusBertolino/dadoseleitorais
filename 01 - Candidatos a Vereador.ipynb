{
 "cells": [
  {
   "cell_type": "markdown",
   "metadata": {},
   "source": [
    "# Relatório de Análise 1\n",
    "\n",
    "### Importando dados dos candidatos no estado de SP"
   ]
  },
  {
   "cell_type": "code",
   "execution_count": 1,
   "metadata": {},
   "outputs": [],
   "source": [
    "import pandas as pd"
   ]
  },
  {
   "cell_type": "code",
   "execution_count": 2,
   "metadata": {
    "scrolled": false
   },
   "outputs": [
    {
     "data": {
      "text/html": [
       "<div>\n",
       "<style scoped>\n",
       "    .dataframe tbody tr th:only-of-type {\n",
       "        vertical-align: middle;\n",
       "    }\n",
       "\n",
       "    .dataframe tbody tr th {\n",
       "        vertical-align: top;\n",
       "    }\n",
       "\n",
       "    .dataframe thead th {\n",
       "        text-align: right;\n",
       "    }\n",
       "</style>\n",
       "<table border=\"1\" class=\"dataframe\">\n",
       "  <thead>\n",
       "    <tr style=\"text-align: right;\">\n",
       "      <th></th>\n",
       "      <th>0</th>\n",
       "      <th>1</th>\n",
       "      <th>2</th>\n",
       "      <th>3</th>\n",
       "      <th>4</th>\n",
       "      <th>5</th>\n",
       "      <th>6</th>\n",
       "      <th>7</th>\n",
       "      <th>8</th>\n",
       "      <th>9</th>\n",
       "      <th>...</th>\n",
       "      <th>19</th>\n",
       "      <th>20</th>\n",
       "      <th>21</th>\n",
       "      <th>22</th>\n",
       "      <th>23</th>\n",
       "      <th>24</th>\n",
       "      <th>25</th>\n",
       "      <th>26</th>\n",
       "      <th>27</th>\n",
       "      <th>28</th>\n",
       "    </tr>\n",
       "  </thead>\n",
       "  <tbody>\n",
       "    <tr>\n",
       "      <th>0</th>\n",
       "      <td>15/07/2016</td>\n",
       "      <td>21:46:28</td>\n",
       "      <td>2012</td>\n",
       "      <td>1</td>\n",
       "      <td>ELEIÇÃO MUNICIPAL 2012</td>\n",
       "      <td>SP</td>\n",
       "      <td>65455</td>\n",
       "      <td>65455</td>\n",
       "      <td>ITAPECERICA DA SERRA</td>\n",
       "      <td>201</td>\n",
       "      <td>...</td>\n",
       "      <td>DEFERIDO</td>\n",
       "      <td>4</td>\n",
       "      <td>NÃO ELEITO</td>\n",
       "      <td>25</td>\n",
       "      <td>DEM</td>\n",
       "      <td>DEMOCRATAS</td>\n",
       "      <td>250000005242</td>\n",
       "      <td>APAIXONADO POR ITAPECERICA</td>\n",
       "      <td>DEM / PT do B</td>\n",
       "      <td>163</td>\n",
       "    </tr>\n",
       "    <tr>\n",
       "      <th>1</th>\n",
       "      <td>15/07/2016</td>\n",
       "      <td>21:46:28</td>\n",
       "      <td>2012</td>\n",
       "      <td>1</td>\n",
       "      <td>ELEIÇÃO MUNICIPAL 2012</td>\n",
       "      <td>SP</td>\n",
       "      <td>65455</td>\n",
       "      <td>65455</td>\n",
       "      <td>ITAPECERICA DA SERRA</td>\n",
       "      <td>201</td>\n",
       "      <td>...</td>\n",
       "      <td>DEFERIDO</td>\n",
       "      <td>4</td>\n",
       "      <td>NÃO ELEITO</td>\n",
       "      <td>25</td>\n",
       "      <td>DEM</td>\n",
       "      <td>DEMOCRATAS</td>\n",
       "      <td>250000005242</td>\n",
       "      <td>APAIXONADO POR ITAPECERICA</td>\n",
       "      <td>DEM / PT do B</td>\n",
       "      <td>59</td>\n",
       "    </tr>\n",
       "    <tr>\n",
       "      <th>2</th>\n",
       "      <td>15/07/2016</td>\n",
       "      <td>21:46:28</td>\n",
       "      <td>2012</td>\n",
       "      <td>1</td>\n",
       "      <td>ELEIÇÃO MUNICIPAL 2012</td>\n",
       "      <td>SP</td>\n",
       "      <td>65455</td>\n",
       "      <td>65455</td>\n",
       "      <td>ITAPECERICA DA SERRA</td>\n",
       "      <td>201</td>\n",
       "      <td>...</td>\n",
       "      <td>DEFERIDO</td>\n",
       "      <td>4</td>\n",
       "      <td>NÃO ELEITO</td>\n",
       "      <td>11</td>\n",
       "      <td>PP</td>\n",
       "      <td>PARTIDO PROGRESSISTA</td>\n",
       "      <td>250000003616</td>\n",
       "      <td>MOBILIZAÇÃO E PROGRESSO</td>\n",
       "      <td>PP / PMN</td>\n",
       "      <td>45</td>\n",
       "    </tr>\n",
       "    <tr>\n",
       "      <th>3</th>\n",
       "      <td>15/07/2016</td>\n",
       "      <td>21:46:28</td>\n",
       "      <td>2012</td>\n",
       "      <td>1</td>\n",
       "      <td>ELEIÇÃO MUNICIPAL 2012</td>\n",
       "      <td>SP</td>\n",
       "      <td>65455</td>\n",
       "      <td>65455</td>\n",
       "      <td>ITAPECERICA DA SERRA</td>\n",
       "      <td>201</td>\n",
       "      <td>...</td>\n",
       "      <td>DEFERIDO</td>\n",
       "      <td>5</td>\n",
       "      <td>SUPLENTE</td>\n",
       "      <td>45</td>\n",
       "      <td>PSDB</td>\n",
       "      <td>PARTIDO DA SOCIAL DEMOCRACIA BRASILEIRA</td>\n",
       "      <td>250000002242</td>\n",
       "      <td>JUNTOS POR ITAPECERICA</td>\n",
       "      <td>PSC / PSDB</td>\n",
       "      <td>310</td>\n",
       "    </tr>\n",
       "    <tr>\n",
       "      <th>4</th>\n",
       "      <td>15/07/2016</td>\n",
       "      <td>21:46:28</td>\n",
       "      <td>2012</td>\n",
       "      <td>1</td>\n",
       "      <td>ELEIÇÃO MUNICIPAL 2012</td>\n",
       "      <td>SP</td>\n",
       "      <td>65455</td>\n",
       "      <td>65455</td>\n",
       "      <td>ITAPECERICA DA SERRA</td>\n",
       "      <td>201</td>\n",
       "      <td>...</td>\n",
       "      <td>DEFERIDO COM RECURSO</td>\n",
       "      <td>5</td>\n",
       "      <td>SUPLENTE</td>\n",
       "      <td>15</td>\n",
       "      <td>PMDB</td>\n",
       "      <td>PARTIDO DO MOVIMENTO DEMOCRÁTICO BRASILEIRO</td>\n",
       "      <td>250000001972</td>\n",
       "      <td>HONESTIDADE E SERIEDADE</td>\n",
       "      <td>PRB / PMDB / PSD</td>\n",
       "      <td>83</td>\n",
       "    </tr>\n",
       "  </tbody>\n",
       "</table>\n",
       "<p>5 rows × 29 columns</p>\n",
       "</div>"
      ],
      "text/plain": [
       "           0         1     2   3                       4   5      6      7   \\\n",
       "0  15/07/2016  21:46:28  2012   1  ELEIÇÃO MUNICIPAL 2012  SP  65455  65455   \n",
       "1  15/07/2016  21:46:28  2012   1  ELEIÇÃO MUNICIPAL 2012  SP  65455  65455   \n",
       "2  15/07/2016  21:46:28  2012   1  ELEIÇÃO MUNICIPAL 2012  SP  65455  65455   \n",
       "3  15/07/2016  21:46:28  2012   1  ELEIÇÃO MUNICIPAL 2012  SP  65455  65455   \n",
       "4  15/07/2016  21:46:28  2012   1  ELEIÇÃO MUNICIPAL 2012  SP  65455  65455   \n",
       "\n",
       "                     8    9  ...                     19  20          21  22  \\\n",
       "0  ITAPECERICA DA SERRA  201 ...               DEFERIDO   4  NÃO ELEITO  25   \n",
       "1  ITAPECERICA DA SERRA  201 ...               DEFERIDO   4  NÃO ELEITO  25   \n",
       "2  ITAPECERICA DA SERRA  201 ...               DEFERIDO   4  NÃO ELEITO  11   \n",
       "3  ITAPECERICA DA SERRA  201 ...               DEFERIDO   5    SUPLENTE  45   \n",
       "4  ITAPECERICA DA SERRA  201 ...   DEFERIDO COM RECURSO   5    SUPLENTE  15   \n",
       "\n",
       "     23                                           24            25  \\\n",
       "0   DEM                                   DEMOCRATAS  250000005242   \n",
       "1   DEM                                   DEMOCRATAS  250000005242   \n",
       "2    PP                         PARTIDO PROGRESSISTA  250000003616   \n",
       "3  PSDB      PARTIDO DA SOCIAL DEMOCRACIA BRASILEIRA  250000002242   \n",
       "4  PMDB  PARTIDO DO MOVIMENTO DEMOCRÁTICO BRASILEIRO  250000001972   \n",
       "\n",
       "                           26                27   28  \n",
       "0  APAIXONADO POR ITAPECERICA     DEM / PT do B  163  \n",
       "1  APAIXONADO POR ITAPECERICA     DEM / PT do B   59  \n",
       "2     MOBILIZAÇÃO E PROGRESSO          PP / PMN   45  \n",
       "3      JUNTOS POR ITAPECERICA        PSC / PSDB  310  \n",
       "4     HONESTIDADE E SERIEDADE  PRB / PMDB / PSD   83  \n",
       "\n",
       "[5 rows x 29 columns]"
      ]
     },
     "execution_count": 2,
     "metadata": {},
     "output_type": "execute_result"
    }
   ],
   "source": [
    "dados = pd.read_table('votacao_candidato_munzona_2012/votacao_candidato_munzona_2012_SP.txt', sep = ';', encoding = 'latin-1', header=None)\n",
    "dados.head()"
   ]
  },
  {
   "cell_type": "code",
   "execution_count": 6,
   "metadata": {},
   "outputs": [
    {
     "data": {
      "text/plain": [
       "(182961, 29)"
      ]
     },
     "execution_count": 6,
     "metadata": {},
     "output_type": "execute_result"
    }
   ],
   "source": [
    "dados.shape"
   ]
  },
  {
   "cell_type": "markdown",
   "metadata": {},
   "source": [
    "### Filtrando somente os candidatos a vereador na cidade de São Paulo que puderam receber votos"
   ]
  },
  {
   "cell_type": "code",
   "execution_count": 3,
   "metadata": {},
   "outputs": [
    {
     "data": {
      "text/html": [
       "<div>\n",
       "<style scoped>\n",
       "    .dataframe tbody tr th:only-of-type {\n",
       "        vertical-align: middle;\n",
       "    }\n",
       "\n",
       "    .dataframe tbody tr th {\n",
       "        vertical-align: top;\n",
       "    }\n",
       "\n",
       "    .dataframe thead th {\n",
       "        text-align: right;\n",
       "    }\n",
       "</style>\n",
       "<table border=\"1\" class=\"dataframe\">\n",
       "  <thead>\n",
       "    <tr style=\"text-align: right;\">\n",
       "      <th></th>\n",
       "      <th>NomeUrna</th>\n",
       "      <th>NumVotacao</th>\n",
       "    </tr>\n",
       "  </thead>\n",
       "  <tbody>\n",
       "    <tr>\n",
       "      <th>59684</th>\n",
       "      <td>ABAJUR</td>\n",
       "      <td>31013</td>\n",
       "    </tr>\n",
       "    <tr>\n",
       "      <th>77860</th>\n",
       "      <td>ABDIAS</td>\n",
       "      <td>54186</td>\n",
       "    </tr>\n",
       "    <tr>\n",
       "      <th>76171</th>\n",
       "      <td>ABEL FERNANDEZ</td>\n",
       "      <td>10111</td>\n",
       "    </tr>\n",
       "    <tr>\n",
       "      <th>76165</th>\n",
       "      <td>ABOU ANNI</td>\n",
       "      <td>43010</td>\n",
       "    </tr>\n",
       "    <tr>\n",
       "      <th>60319</th>\n",
       "      <td>ABRAAO DO QUEJO</td>\n",
       "      <td>12136</td>\n",
       "    </tr>\n",
       "  </tbody>\n",
       "</table>\n",
       "</div>"
      ],
      "text/plain": [
       "              NomeUrna  NumVotacao\n",
       "59684           ABAJUR       31013\n",
       "77860           ABDIAS       54186\n",
       "76171   ABEL FERNANDEZ       10111\n",
       "76165        ABOU ANNI       43010\n",
       "60319  ABRAAO DO QUEJO       12136"
      ]
     },
     "execution_count": 3,
     "metadata": {},
     "output_type": "execute_result"
    }
   ],
   "source": [
    "dados.rename(columns = {8 : 'Cidade', 11: 'NumVotacao', 14 : 'NomeUrna', 15 : 'Cargo', 19: 'Registro' }, inplace = True)\n",
    "selection = (dados.Cidade == 'SÃO PAULO') & (dados.Cargo == 'VEREADOR') & (dados.Registro != 'INDEFERIDO') & (dados.Registro != 'RENÚNCIA')\n",
    "db_vereadores_sp = dados[selection][['NomeUrna', 'NumVotacao']]\n",
    "db_vereadores_sp.drop_duplicates(inplace = True)\n",
    "db_vereadores_sp.sort_values(by = 'NomeUrna', inplace = True)\n",
    "db_vereadores_sp.head()"
   ]
  },
  {
   "cell_type": "code",
   "execution_count": 4,
   "metadata": {},
   "outputs": [
    {
     "data": {
      "text/plain": [
       "(1145, 2)"
      ]
     },
     "execution_count": 4,
     "metadata": {},
     "output_type": "execute_result"
    }
   ],
   "source": [
    "db_vereadores_sp.shape"
   ]
  },
  {
   "cell_type": "markdown",
   "metadata": {},
   "source": [
    "### Exportando dados"
   ]
  },
  {
   "cell_type": "code",
   "execution_count": 5,
   "metadata": {},
   "outputs": [],
   "source": [
    "db_vereadores_sp.to_csv('dados/candidatos_vereador.csv', sep = ';', index = False, encoding = 'latin-1', header = False)"
   ]
  },
  {
   "cell_type": "code",
   "execution_count": null,
   "metadata": {},
   "outputs": [],
   "source": []
  }
 ],
 "metadata": {
  "kernelspec": {
   "display_name": "Python 3",
   "language": "python",
   "name": "python3"
  },
  "language_info": {
   "codemirror_mode": {
    "name": "ipython",
    "version": 3
   },
   "file_extension": ".py",
   "mimetype": "text/x-python",
   "name": "python",
   "nbconvert_exporter": "python",
   "pygments_lexer": "ipython3",
   "version": "3.6.8"
  }
 },
 "nbformat": 4,
 "nbformat_minor": 2
}
