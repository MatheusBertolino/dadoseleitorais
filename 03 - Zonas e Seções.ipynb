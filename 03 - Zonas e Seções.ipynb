{
 "cells": [
  {
   "cell_type": "markdown",
   "metadata": {},
   "source": [
    "# Relatório de Análise 3\n",
    "\n",
    "### Importando dados de seções no estado de SP"
   ]
  },
  {
   "cell_type": "code",
   "execution_count": 1,
   "metadata": {},
   "outputs": [],
   "source": [
    "import pandas as pd"
   ]
  },
  {
   "cell_type": "code",
   "execution_count": 2,
   "metadata": {},
   "outputs": [
    {
     "data": {
      "text/html": [
       "<div>\n",
       "<style scoped>\n",
       "    .dataframe tbody tr th:only-of-type {\n",
       "        vertical-align: middle;\n",
       "    }\n",
       "\n",
       "    .dataframe tbody tr th {\n",
       "        vertical-align: top;\n",
       "    }\n",
       "\n",
       "    .dataframe thead th {\n",
       "        text-align: right;\n",
       "    }\n",
       "</style>\n",
       "<table border=\"1\" class=\"dataframe\">\n",
       "  <thead>\n",
       "    <tr style=\"text-align: right;\">\n",
       "      <th></th>\n",
       "      <th>0</th>\n",
       "      <th>1</th>\n",
       "      <th>2</th>\n",
       "      <th>3</th>\n",
       "      <th>4</th>\n",
       "      <th>5</th>\n",
       "      <th>6</th>\n",
       "      <th>7</th>\n",
       "      <th>8</th>\n",
       "      <th>9</th>\n",
       "      <th>...</th>\n",
       "      <th>11</th>\n",
       "      <th>12</th>\n",
       "      <th>13</th>\n",
       "      <th>14</th>\n",
       "      <th>15</th>\n",
       "      <th>16</th>\n",
       "      <th>17</th>\n",
       "      <th>18</th>\n",
       "      <th>19</th>\n",
       "      <th>20</th>\n",
       "    </tr>\n",
       "  </thead>\n",
       "  <tbody>\n",
       "    <tr>\n",
       "      <th>0</th>\n",
       "      <td>14/10/2015</td>\n",
       "      <td>13:28:09</td>\n",
       "      <td>2012</td>\n",
       "      <td>1</td>\n",
       "      <td>ELEIÇÃO MUNICIPAL 2012</td>\n",
       "      <td>SP</td>\n",
       "      <td>61018</td>\n",
       "      <td>61018</td>\n",
       "      <td>ADAMANTINA</td>\n",
       "      <td>157</td>\n",
       "      <td>...</td>\n",
       "      <td>11</td>\n",
       "      <td>PREFEITO</td>\n",
       "      <td>371</td>\n",
       "      <td>283</td>\n",
       "      <td>88</td>\n",
       "      <td>269</td>\n",
       "      <td>3</td>\n",
       "      <td>11</td>\n",
       "      <td>0</td>\n",
       "      <td>0</td>\n",
       "    </tr>\n",
       "    <tr>\n",
       "      <th>1</th>\n",
       "      <td>14/10/2015</td>\n",
       "      <td>13:28:09</td>\n",
       "      <td>2012</td>\n",
       "      <td>1</td>\n",
       "      <td>ELEIÇÃO MUNICIPAL 2012</td>\n",
       "      <td>SP</td>\n",
       "      <td>61018</td>\n",
       "      <td>61018</td>\n",
       "      <td>ADAMANTINA</td>\n",
       "      <td>157</td>\n",
       "      <td>...</td>\n",
       "      <td>13</td>\n",
       "      <td>VEREADOR</td>\n",
       "      <td>371</td>\n",
       "      <td>283</td>\n",
       "      <td>88</td>\n",
       "      <td>249</td>\n",
       "      <td>5</td>\n",
       "      <td>4</td>\n",
       "      <td>25</td>\n",
       "      <td>0</td>\n",
       "    </tr>\n",
       "    <tr>\n",
       "      <th>2</th>\n",
       "      <td>14/10/2015</td>\n",
       "      <td>13:28:09</td>\n",
       "      <td>2012</td>\n",
       "      <td>1</td>\n",
       "      <td>ELEIÇÃO MUNICIPAL 2012</td>\n",
       "      <td>SP</td>\n",
       "      <td>61018</td>\n",
       "      <td>61018</td>\n",
       "      <td>ADAMANTINA</td>\n",
       "      <td>157</td>\n",
       "      <td>...</td>\n",
       "      <td>11</td>\n",
       "      <td>PREFEITO</td>\n",
       "      <td>375</td>\n",
       "      <td>284</td>\n",
       "      <td>91</td>\n",
       "      <td>263</td>\n",
       "      <td>12</td>\n",
       "      <td>9</td>\n",
       "      <td>0</td>\n",
       "      <td>0</td>\n",
       "    </tr>\n",
       "    <tr>\n",
       "      <th>3</th>\n",
       "      <td>14/10/2015</td>\n",
       "      <td>13:28:09</td>\n",
       "      <td>2012</td>\n",
       "      <td>1</td>\n",
       "      <td>ELEIÇÃO MUNICIPAL 2012</td>\n",
       "      <td>SP</td>\n",
       "      <td>61018</td>\n",
       "      <td>61018</td>\n",
       "      <td>ADAMANTINA</td>\n",
       "      <td>157</td>\n",
       "      <td>...</td>\n",
       "      <td>13</td>\n",
       "      <td>VEREADOR</td>\n",
       "      <td>375</td>\n",
       "      <td>284</td>\n",
       "      <td>91</td>\n",
       "      <td>243</td>\n",
       "      <td>16</td>\n",
       "      <td>5</td>\n",
       "      <td>20</td>\n",
       "      <td>0</td>\n",
       "    </tr>\n",
       "    <tr>\n",
       "      <th>4</th>\n",
       "      <td>14/10/2015</td>\n",
       "      <td>13:28:09</td>\n",
       "      <td>2012</td>\n",
       "      <td>1</td>\n",
       "      <td>ELEIÇÃO MUNICIPAL 2012</td>\n",
       "      <td>SP</td>\n",
       "      <td>61018</td>\n",
       "      <td>61018</td>\n",
       "      <td>ADAMANTINA</td>\n",
       "      <td>157</td>\n",
       "      <td>...</td>\n",
       "      <td>11</td>\n",
       "      <td>PREFEITO</td>\n",
       "      <td>374</td>\n",
       "      <td>285</td>\n",
       "      <td>89</td>\n",
       "      <td>268</td>\n",
       "      <td>8</td>\n",
       "      <td>9</td>\n",
       "      <td>0</td>\n",
       "      <td>0</td>\n",
       "    </tr>\n",
       "  </tbody>\n",
       "</table>\n",
       "<p>5 rows × 21 columns</p>\n",
       "</div>"
      ],
      "text/plain": [
       "           0         1     2   3                       4   5      6      7   \\\n",
       "0  14/10/2015  13:28:09  2012   1  ELEIÇÃO MUNICIPAL 2012  SP  61018  61018   \n",
       "1  14/10/2015  13:28:09  2012   1  ELEIÇÃO MUNICIPAL 2012  SP  61018  61018   \n",
       "2  14/10/2015  13:28:09  2012   1  ELEIÇÃO MUNICIPAL 2012  SP  61018  61018   \n",
       "3  14/10/2015  13:28:09  2012   1  ELEIÇÃO MUNICIPAL 2012  SP  61018  61018   \n",
       "4  14/10/2015  13:28:09  2012   1  ELEIÇÃO MUNICIPAL 2012  SP  61018  61018   \n",
       "\n",
       "           8    9  ...  11        12   13   14  15   16  17  18  19  20  \n",
       "0  ADAMANTINA  157 ...  11  PREFEITO  371  283  88  269   3  11   0   0  \n",
       "1  ADAMANTINA  157 ...  13  VEREADOR  371  283  88  249   5   4  25   0  \n",
       "2  ADAMANTINA  157 ...  11  PREFEITO  375  284  91  263  12   9   0   0  \n",
       "3  ADAMANTINA  157 ...  13  VEREADOR  375  284  91  243  16   5  20   0  \n",
       "4  ADAMANTINA  157 ...  11  PREFEITO  374  285  89  268   8   9   0   0  \n",
       "\n",
       "[5 rows x 21 columns]"
      ]
     },
     "execution_count": 2,
     "metadata": {},
     "output_type": "execute_result"
    }
   ],
   "source": [
    "dados = pd.read_table('detalhe_votacao_secao_2012/detalhe_votacao_secao_2012_SP.txt', sep = ';', encoding = 'latin-1', header = None)\n",
    "dados.head()"
   ]
  },
  {
   "cell_type": "markdown",
   "metadata": {},
   "source": [
    "### Filtrando somente seções na cidade de São Paulo"
   ]
  },
  {
   "cell_type": "code",
   "execution_count": 3,
   "metadata": {},
   "outputs": [
    {
     "data": {
      "text/html": [
       "<div>\n",
       "<style scoped>\n",
       "    .dataframe tbody tr th:only-of-type {\n",
       "        vertical-align: middle;\n",
       "    }\n",
       "\n",
       "    .dataframe tbody tr th {\n",
       "        vertical-align: top;\n",
       "    }\n",
       "\n",
       "    .dataframe thead th {\n",
       "        text-align: right;\n",
       "    }\n",
       "</style>\n",
       "<table border=\"1\" class=\"dataframe\">\n",
       "  <thead>\n",
       "    <tr style=\"text-align: right;\">\n",
       "      <th></th>\n",
       "      <th>Zona</th>\n",
       "      <th>Seção</th>\n",
       "    </tr>\n",
       "  </thead>\n",
       "  <tbody>\n",
       "    <tr>\n",
       "      <th>112812</th>\n",
       "      <td>1</td>\n",
       "      <td>1</td>\n",
       "    </tr>\n",
       "    <tr>\n",
       "      <th>112814</th>\n",
       "      <td>1</td>\n",
       "      <td>2</td>\n",
       "    </tr>\n",
       "    <tr>\n",
       "      <th>112816</th>\n",
       "      <td>1</td>\n",
       "      <td>3</td>\n",
       "    </tr>\n",
       "    <tr>\n",
       "      <th>112818</th>\n",
       "      <td>1</td>\n",
       "      <td>4</td>\n",
       "    </tr>\n",
       "    <tr>\n",
       "      <th>112820</th>\n",
       "      <td>1</td>\n",
       "      <td>5</td>\n",
       "    </tr>\n",
       "  </tbody>\n",
       "</table>\n",
       "</div>"
      ],
      "text/plain": [
       "        Zona  Seção\n",
       "112812     1      1\n",
       "112814     1      2\n",
       "112816     1      3\n",
       "112818     1      4\n",
       "112820     1      5"
      ]
     },
     "execution_count": 3,
     "metadata": {},
     "output_type": "execute_result"
    }
   ],
   "source": [
    "dados.rename(columns = {8 : 'Cidade', 9 : 'Zona', 10 : 'Seção'}, inplace = True)\n",
    "selection = (dados.Cidade == 'SÃO PAULO')\n",
    "dados = dados[selection][['Zona', 'Seção']]\n",
    "dados.drop_duplicates(inplace = True)\n",
    "dados.head()"
   ]
  },
  {
   "cell_type": "code",
   "execution_count": 4,
   "metadata": {},
   "outputs": [
    {
     "data": {
      "text/plain": [
       "(23684, 2)"
      ]
     },
     "execution_count": 4,
     "metadata": {},
     "output_type": "execute_result"
    }
   ],
   "source": [
    "dados.shape"
   ]
  },
  {
   "cell_type": "code",
   "execution_count": 5,
   "metadata": {},
   "outputs": [
    {
     "data": {
      "text/plain": [
       "112812    1\n",
       "113772    2\n",
       "114780    3\n",
       "115238    4\n",
       "116096    5\n",
       "Name: Zona, dtype: int64"
      ]
     },
     "execution_count": 5,
     "metadata": {},
     "output_type": "execute_result"
    }
   ],
   "source": [
    "zonas = dados.Zona.drop_duplicates()\n",
    "zonas.head()"
   ]
  },
  {
   "cell_type": "code",
   "execution_count": 6,
   "metadata": {},
   "outputs": [
    {
     "data": {
      "text/plain": [
       "(58,)"
      ]
     },
     "execution_count": 6,
     "metadata": {},
     "output_type": "execute_result"
    }
   ],
   "source": [
    "zonas.shape"
   ]
  },
  {
   "cell_type": "markdown",
   "metadata": {},
   "source": [
    "### Exportando Zonas e Seções"
   ]
  },
  {
   "cell_type": "code",
   "execution_count": 7,
   "metadata": {},
   "outputs": [],
   "source": [
    "dados.to_csv('dados/secoes.csv', sep = ';', index = False, encoding = 'latin-1', header = False)\n",
    "zonas.to_csv('dados/zonas.csv', sep = ';', index = False, encoding = 'latin-1', header = False)"
   ]
  },
  {
   "cell_type": "code",
   "execution_count": null,
   "metadata": {},
   "outputs": [],
   "source": []
  }
 ],
 "metadata": {
  "kernelspec": {
   "display_name": "Python 3",
   "language": "python",
   "name": "python3"
  },
  "language_info": {
   "codemirror_mode": {
    "name": "ipython",
    "version": 3
   },
   "file_extension": ".py",
   "mimetype": "text/x-python",
   "name": "python",
   "nbconvert_exporter": "python",
   "pygments_lexer": "ipython3",
   "version": "3.6.8"
  }
 },
 "nbformat": 4,
 "nbformat_minor": 2
}
